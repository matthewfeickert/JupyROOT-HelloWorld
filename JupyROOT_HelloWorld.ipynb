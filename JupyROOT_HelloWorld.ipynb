{
 "cells": [
  {
   "cell_type": "markdown",
   "metadata": {},
   "source": [
    "# ROOT in Jupyter Hello World Case"
   ]
  },
  {
   "cell_type": "markdown",
   "metadata": {
    "slideshow": {
     "slide_type": "-"
    }
   },
   "source": [
    "These are some simple examples"
   ]
  },
  {
   "cell_type": "code",
   "execution_count": null,
   "metadata": {
    "collapsed": false
   },
   "outputs": [],
   "source": [
    "// These should be defined only once, so are defined at head (C style)\n",
    "TCanvas c;\n",
    "TCanvas c1;\n",
    "TH1F h(\"h\",\"ROOT Histo;X;Y\",64,-4,4);\n",
    "TF1 f1;\n",
    "double mu, sigma, n;"
   ]
  },
  {
   "cell_type": "code",
   "execution_count": null,
   "metadata": {
    "collapsed": false
   },
   "outputs": [],
   "source": [
    "c.cd();\n",
    "h.FillRandom(\"gaus\");\n",
    "h.Draw();\n",
    "c.Draw();"
   ]
  },
  {
   "cell_type": "markdown",
   "metadata": {},
   "source": [
    "Let's try some basic examples of stats: A normalized Gaussian"
   ]
  },
  {
   "cell_type": "code",
   "execution_count": null,
   "metadata": {
    "collapsed": false
   },
   "outputs": [],
   "source": [
    "c1.cd();\n",
    "f1 = TF1(\"f1\",\"TMath::Gaus(x,[0],[1],kTRUE)\",-10,10);\n",
    "mu = 0.;\n",
    "sigma = 1.0;\n",
    "f1.SetParameters(mu,sigma);\n",
    "f1.Draw();"
   ]
  },
  {
   "cell_type": "code",
   "execution_count": null,
   "metadata": {
    "collapsed": false,
    "scrolled": false
   },
   "outputs": [],
   "source": [
    "c1.Draw();"
   ]
  },
  {
   "cell_type": "markdown",
   "metadata": {},
   "source": [
    "Let's look at: $\\int\\limits_{-n}^{n} G(x)\\,dx$ (where $G(x)$ is our Gaussian)"
   ]
  },
  {
   "cell_type": "markdown",
   "metadata": {},
   "source": [
    "$\\text{Pr}\\,(\\mu - y \\leq x \\leq \\mu + y) = \\displaystyle\\int\\limits_{\\mu-y}^{\\mu+y} \\frac{1}{\\sqrt{2\\pi}\\sigma}e^{-(x-\\mu)^2/2\\sigma^2}\\,dx = \\text{erf}\\left(\\frac{y}{\\sqrt{2}\\sigma}\\right)$"
   ]
  },
  {
   "cell_type": "code",
   "execution_count": null,
   "metadata": {
    "collapsed": false
   },
   "outputs": [],
   "source": [
    "n=2.;\n",
    "std::cout << \"The probability that a Gaussian distributed random varabile will lie within \";\n",
    "std::cout << n << \" standard deviations of the mean is: \" << f1.Integral(-n,n);"
   ]
  },
  {
   "cell_type": "markdown",
   "metadata": {},
   "source": [
    "Note that in the case that $\\left|y\\right| = n\\sigma$, then the $\\displaystyle\\text{Pr}(\\mu - y \\leq x \\leq \\mu + y) = \\text{erf}\\left(\\frac{n}{\\sqrt{2}}\\right)$:"
   ]
  },
  {
   "cell_type": "code",
   "execution_count": null,
   "metadata": {
    "collapsed": false
   },
   "outputs": [],
   "source": [
    "std::cout << TMath::Erf(n/TMath::Sqrt(2));"
   ]
  }
 ],
 "metadata": {
  "kernelspec": {
   "display_name": "ROOT C++",
   "language": "c++",
   "name": "root"
  },
  "language_info": {
   "codemirror_mode": "text/x-c++src",
   "file_extension": ".C",
   "mimetype": " text/x-c++src",
   "name": "c++"
  }
 },
 "nbformat": 4,
 "nbformat_minor": 0
}
